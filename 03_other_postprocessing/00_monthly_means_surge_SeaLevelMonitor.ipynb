{
 "cells": [
  {
   "cell_type": "code",
   "execution_count": null,
   "id": "93969755-c92e-450d-876c-440e3c1599a8",
   "metadata": {},
   "outputs": [],
   "source": [
    "import xarray as xr\n",
    "import glob\n",
    "import os\n",
    "import sys\n",
    "import numpy as np\n",
    "import matplotlib.pyplot as plt\n",
    "from datetime import datetime, timedelta"
   ]
  },
  {
   "cell_type": "code",
   "execution_count": null,
   "id": "6f4f7d8d-1f1c-44ef-ac89-1e860a1d151c",
   "metadata": {},
   "outputs": [],
   "source": [
    "# location of 10-min timeseries of surge\n",
    "sys.path.append(\"..\")\n",
    "from path_dict import path_dict\n",
    "dir_postproc = path_dict['postproc']\n",
    "dir_ts = os.path.join(dir_postproc,'timeseries-GTSM-ERA5-10min','surge')"
   ]
  },
  {
   "cell_type": "code",
   "execution_count": null,
   "id": "430395aa-ef73-4468-af2f-562d0ae9f442",
   "metadata": {},
   "outputs": [],
   "source": [
    "# output directory\n",
    "outdir = os.path.join(dir_postproc,'SeaLevelMonitor')"
   ]
  },
  {
   "cell_type": "code",
   "execution_count": null,
   "id": "8e45ec75-ad9e-4bad-a243-2f1562d9cf1e",
   "metadata": {},
   "outputs": [],
   "source": [
    "# select year to process\n",
    "yrs = range(1955,2022)"
   ]
  },
  {
   "cell_type": "code",
   "execution_count": null,
   "id": "76acaace-257a-4a99-883e-d6fb15559fd7",
   "metadata": {},
   "outputs": [],
   "source": [
    "for yr in yrs:\n",
    "    print(f'Processing year {yr}...')\n",
    "\n",
    "    ts_files = glob.glob(os.path.join(dir_ts,f'reanalysis_surge_10min_{yr}_*_v1.nc'))\n",
    "\n",
    "    if len(ts_files) == 12:\n",
    "        # open all data for that year in one dataset\n",
    "        ds = xr.open_mfdataset(ts_files)\n",
    "        \n",
    "        # resample to monthly means\n",
    "        ds_monthly_mean = ds.resample(time='M').mean()\n",
    "        ds_monthly_mean['station_x_coordinate'] = ds_monthly_mean['station_x_coordinate'].isel(time=0,drop=True)\n",
    "        ds_monthly_mean['station_y_coordinate'] = ds_monthly_mean['station_y_coordinate'].isel(time=0,drop=True) \n",
    "        \n",
    "        # drop the time dimension on coordinates that got added when opening the dataset\n",
    "        ds_monthly_mean.load()\n",
    "        \n",
    "        # save resulting file\n",
    "        ofile = os.path.join(outdir,'era5_reanalysis_surge_%s_v1_monthly_mean.nc' % yr)\n",
    "        ds_monthly_mean.to_netcdf(ofile)\n",
    "        del ds, ds_monthly_mean\n",
    "        print('==== Done!')\n",
    "    else:\n",
    "        print('==== Not all months are available in %s'% yr)\n"
   ]
  },
  {
   "cell_type": "code",
   "execution_count": null,
   "id": "3e2dbf87-e86b-4d88-86a2-7e04f89e7738",
   "metadata": {},
   "outputs": [],
   "source": [
    "# checkplot of timeseries and monthly means for one location\n",
    "\n",
    "#loc = [4.556043, 52.461978] # IJmuiden station coordinates [lon,lat]\n",
    "\n",
    "# find station number\n",
    "#abslon = np.abs(ds.station_x_coordinate-loc[0])\n",
    "#abslat = np.abs(ds.station_y_coordinate-loc[1])\n",
    "#station_id = ds['stations'].isel(stations=np.argmin(abslon.values**2 + abslat.values**2)).values.tolist()"
   ]
  },
  {
   "cell_type": "code",
   "execution_count": null,
   "id": "94679611-54e8-4943-9412-3eba5df3648c",
   "metadata": {},
   "outputs": [],
   "source": [
    "#plt.plot(ds['time'],ds['surge'].sel(stations=station_id))\n",
    "#for mm in range(1,12):\n",
    "#    plt.plot([ds_monthly_mean['time'][mm-1].values,ds_monthly_mean['time'][mm].values],[ds_monthly_mean['surge'].sel(stations=station_id)[mm],ds_monthly_mean['surge'].sel(stations=station_id)[mm]],color='red')"
   ]
  }
 ],
 "metadata": {
  "kernelspec": {
   "display_name": "Python 3 (ipykernel)",
   "language": "python",
   "name": "python3"
  },
  "language_info": {
   "codemirror_mode": {
    "name": "ipython",
    "version": 3
   },
   "file_extension": ".py",
   "mimetype": "text/x-python",
   "name": "python",
   "nbconvert_exporter": "python",
   "pygments_lexer": "ipython3",
   "version": "3.10.6"
  }
 },
 "nbformat": 4,
 "nbformat_minor": 5
}
